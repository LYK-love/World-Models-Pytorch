{
 "cells": [
  {
   "cell_type": "code",
   "execution_count": 1,
   "id": "initial_id",
   "metadata": {
    "collapsed": true,
    "ExecuteTime": {
     "end_time": "2023-12-31T05:23:09.891725314Z",
     "start_time": "2023-12-31T05:23:06.059074038Z"
    }
   },
   "outputs": [
    {
     "name": "stdout",
     "output_type": "stream",
     "text": [
      "/home/lykuni_ucdavis_edu/miniconda3/envs/WM_torch/bin/python\r\n",
      "Error if run in IDE\n",
      "Loading VAE at epoch 100 with test loss 32.24362728851318\n",
      "Loading MDRNN at epoch 17 with test loss 1.0044241176163855\n",
      "Loading Controller with reward 72.5463547064921\n",
      "Track generation: 1323..1658 -> 335-tiles track\n"
     ]
    },
    {
     "name": "stderr",
     "output_type": "stream",
     "text": [
      "/home/lykuni_ucdavis_edu/miniconda3/envs/WM_torch/lib/python3.9/site-packages/gym/envs/registration.py:17: PkgResourcesDeprecationWarning: Parameters to load are deprecated.  Call .resolve and .require separately.\n",
      "  result = entry_point.load(False)\n"
     ]
    },
    {
     "ename": "NoSuchDisplayException",
     "evalue": "Cannot connect to \"None\"",
     "output_type": "error",
     "traceback": [
      "\u001B[0;31m---------------------------------------------------------------------------\u001B[0m",
      "\u001B[0;31mNoSuchDisplayException\u001B[0m                    Traceback (most recent call last)",
      "Cell \u001B[0;32mIn[1], line 18\u001B[0m\n\u001B[1;32m     15\u001B[0m generator \u001B[38;5;241m=\u001B[39m RolloutGenerator(logdir, device, \u001B[38;5;241m1000\u001B[39m)\n\u001B[1;32m     17\u001B[0m \u001B[38;5;28;01mwith\u001B[39;00m torch\u001B[38;5;241m.\u001B[39mno_grad():\n\u001B[0;32m---> 18\u001B[0m     \u001B[38;5;28mprint\u001B[39m(\u001B[43mgenerator\u001B[49m\u001B[38;5;241;43m.\u001B[39;49m\u001B[43mrollout\u001B[49m\u001B[43m(\u001B[49m\u001B[38;5;28;43;01mNone\u001B[39;49;00m\u001B[43m,\u001B[49m\u001B[43m \u001B[49m\u001B[43mrender\u001B[49m\u001B[38;5;241;43m=\u001B[39;49m\u001B[43mrender\u001B[49m\u001B[43m)\u001B[49m)\n",
      "File \u001B[0;32m~/Projects/world-models-torch/utils/misc.py:181\u001B[0m, in \u001B[0;36mRolloutGenerator.rollout\u001B[0;34m(self, params, render)\u001B[0m\n\u001B[1;32m    178\u001B[0m \u001B[38;5;28;01mif\u001B[39;00m params \u001B[38;5;129;01mis\u001B[39;00m \u001B[38;5;129;01mnot\u001B[39;00m \u001B[38;5;28;01mNone\u001B[39;00m:\n\u001B[1;32m    179\u001B[0m     load_parameters(params, \u001B[38;5;28mself\u001B[39m\u001B[38;5;241m.\u001B[39mcontroller)\n\u001B[0;32m--> 181\u001B[0m obs \u001B[38;5;241m=\u001B[39m \u001B[38;5;28;43mself\u001B[39;49m\u001B[38;5;241;43m.\u001B[39;49m\u001B[43menv\u001B[49m\u001B[38;5;241;43m.\u001B[39;49m\u001B[43mreset\u001B[49m\u001B[43m(\u001B[49m\u001B[43m)\u001B[49m\n\u001B[1;32m    183\u001B[0m \u001B[38;5;66;03m# This first render is required !\u001B[39;00m\n\u001B[1;32m    184\u001B[0m \u001B[38;5;28mself\u001B[39m\u001B[38;5;241m.\u001B[39menv\u001B[38;5;241m.\u001B[39mrender()\n",
      "File \u001B[0;32m~/miniconda3/envs/WM_torch/lib/python3.9/site-packages/gym/core.py:104\u001B[0m, in \u001B[0;36mEnv.reset\u001B[0;34m(self)\u001B[0m\n\u001B[1;32m     98\u001B[0m \u001B[38;5;28;01mdef\u001B[39;00m \u001B[38;5;21mreset\u001B[39m(\u001B[38;5;28mself\u001B[39m):\n\u001B[1;32m     99\u001B[0m \u001B[38;5;250m    \u001B[39m\u001B[38;5;124;03m\"\"\"Resets the state of the environment and returns an initial observation.\u001B[39;00m\n\u001B[1;32m    100\u001B[0m \n\u001B[1;32m    101\u001B[0m \u001B[38;5;124;03m    Returns: observation (object): the initial observation of the\u001B[39;00m\n\u001B[1;32m    102\u001B[0m \u001B[38;5;124;03m        space.\u001B[39;00m\n\u001B[1;32m    103\u001B[0m \u001B[38;5;124;03m    \"\"\"\u001B[39;00m\n\u001B[0;32m--> 104\u001B[0m     \u001B[38;5;28;01mreturn\u001B[39;00m \u001B[38;5;28;43mself\u001B[39;49m\u001B[38;5;241;43m.\u001B[39;49m\u001B[43m_reset\u001B[49m\u001B[43m(\u001B[49m\u001B[43m)\u001B[49m\n",
      "File \u001B[0;32m~/miniconda3/envs/WM_torch/lib/python3.9/site-packages/gym/wrappers/time_limit.py:49\u001B[0m, in \u001B[0;36mTimeLimit._reset\u001B[0;34m(self)\u001B[0m\n\u001B[1;32m     47\u001B[0m \u001B[38;5;28mself\u001B[39m\u001B[38;5;241m.\u001B[39m_episode_started_at \u001B[38;5;241m=\u001B[39m time\u001B[38;5;241m.\u001B[39mtime()\n\u001B[1;32m     48\u001B[0m \u001B[38;5;28mself\u001B[39m\u001B[38;5;241m.\u001B[39m_elapsed_steps \u001B[38;5;241m=\u001B[39m \u001B[38;5;241m0\u001B[39m\n\u001B[0;32m---> 49\u001B[0m \u001B[38;5;28;01mreturn\u001B[39;00m \u001B[38;5;28;43mself\u001B[39;49m\u001B[38;5;241;43m.\u001B[39;49m\u001B[43menv\u001B[49m\u001B[38;5;241;43m.\u001B[39;49m\u001B[43mreset\u001B[49m\u001B[43m(\u001B[49m\u001B[43m)\u001B[49m\n",
      "File \u001B[0;32m~/miniconda3/envs/WM_torch/lib/python3.9/site-packages/gym/core.py:104\u001B[0m, in \u001B[0;36mEnv.reset\u001B[0;34m(self)\u001B[0m\n\u001B[1;32m     98\u001B[0m \u001B[38;5;28;01mdef\u001B[39;00m \u001B[38;5;21mreset\u001B[39m(\u001B[38;5;28mself\u001B[39m):\n\u001B[1;32m     99\u001B[0m \u001B[38;5;250m    \u001B[39m\u001B[38;5;124;03m\"\"\"Resets the state of the environment and returns an initial observation.\u001B[39;00m\n\u001B[1;32m    100\u001B[0m \n\u001B[1;32m    101\u001B[0m \u001B[38;5;124;03m    Returns: observation (object): the initial observation of the\u001B[39;00m\n\u001B[1;32m    102\u001B[0m \u001B[38;5;124;03m        space.\u001B[39;00m\n\u001B[1;32m    103\u001B[0m \u001B[38;5;124;03m    \"\"\"\u001B[39;00m\n\u001B[0;32m--> 104\u001B[0m     \u001B[38;5;28;01mreturn\u001B[39;00m \u001B[38;5;28;43mself\u001B[39;49m\u001B[38;5;241;43m.\u001B[39;49m\u001B[43m_reset\u001B[49m\u001B[43m(\u001B[49m\u001B[43m)\u001B[49m\n",
      "File \u001B[0;32m~/miniconda3/envs/WM_torch/lib/python3.9/site-packages/gym/envs/box2d/car_racing.py:292\u001B[0m, in \u001B[0;36mCarRacing._reset\u001B[0;34m(self)\u001B[0m\n\u001B[1;32m    289\u001B[0m     \u001B[38;5;28mprint\u001B[39m(\u001B[38;5;124m\"\u001B[39m\u001B[38;5;124mretry to generate track (normal if there are not many of this messages)\u001B[39m\u001B[38;5;124m\"\u001B[39m)\n\u001B[1;32m    290\u001B[0m \u001B[38;5;28mself\u001B[39m\u001B[38;5;241m.\u001B[39mcar \u001B[38;5;241m=\u001B[39m Car(\u001B[38;5;28mself\u001B[39m\u001B[38;5;241m.\u001B[39mworld, \u001B[38;5;241m*\u001B[39m\u001B[38;5;28mself\u001B[39m\u001B[38;5;241m.\u001B[39mtrack[\u001B[38;5;241m0\u001B[39m][\u001B[38;5;241m1\u001B[39m:\u001B[38;5;241m4\u001B[39m])\n\u001B[0;32m--> 292\u001B[0m \u001B[38;5;28;01mreturn\u001B[39;00m \u001B[38;5;28;43mself\u001B[39;49m\u001B[38;5;241;43m.\u001B[39;49m\u001B[43m_step\u001B[49m\u001B[43m(\u001B[49m\u001B[38;5;28;43;01mNone\u001B[39;49;00m\u001B[43m)\u001B[49m[\u001B[38;5;241m0\u001B[39m]\n",
      "File \u001B[0;32m~/miniconda3/envs/WM_torch/lib/python3.9/site-packages/gym/envs/box2d/car_racing.py:304\u001B[0m, in \u001B[0;36mCarRacing._step\u001B[0;34m(self, action)\u001B[0m\n\u001B[1;32m    301\u001B[0m \u001B[38;5;28mself\u001B[39m\u001B[38;5;241m.\u001B[39mworld\u001B[38;5;241m.\u001B[39mStep(\u001B[38;5;241m1.0\u001B[39m\u001B[38;5;241m/\u001B[39mFPS, \u001B[38;5;241m6\u001B[39m\u001B[38;5;241m*\u001B[39m\u001B[38;5;241m30\u001B[39m, \u001B[38;5;241m2\u001B[39m\u001B[38;5;241m*\u001B[39m\u001B[38;5;241m30\u001B[39m)\n\u001B[1;32m    302\u001B[0m \u001B[38;5;28mself\u001B[39m\u001B[38;5;241m.\u001B[39mt \u001B[38;5;241m+\u001B[39m\u001B[38;5;241m=\u001B[39m \u001B[38;5;241m1.0\u001B[39m\u001B[38;5;241m/\u001B[39mFPS\n\u001B[0;32m--> 304\u001B[0m \u001B[38;5;28mself\u001B[39m\u001B[38;5;241m.\u001B[39mstate \u001B[38;5;241m=\u001B[39m \u001B[38;5;28;43mself\u001B[39;49m\u001B[38;5;241;43m.\u001B[39;49m\u001B[43m_render\u001B[49m\u001B[43m(\u001B[49m\u001B[38;5;124;43m\"\u001B[39;49m\u001B[38;5;124;43mstate_pixels\u001B[39;49m\u001B[38;5;124;43m\"\u001B[39;49m\u001B[43m)\u001B[49m\n\u001B[1;32m    306\u001B[0m step_reward \u001B[38;5;241m=\u001B[39m \u001B[38;5;241m0\u001B[39m\n\u001B[1;32m    307\u001B[0m done \u001B[38;5;241m=\u001B[39m \u001B[38;5;28;01mFalse\u001B[39;00m\n",
      "File \u001B[0;32m~/miniconda3/envs/WM_torch/lib/python3.9/site-packages/gym/envs/box2d/car_racing.py:332\u001B[0m, in \u001B[0;36mCarRacing._render\u001B[0;34m(self, mode, close)\u001B[0m\n\u001B[1;32m    329\u001B[0m     \u001B[38;5;28;01mreturn\u001B[39;00m\n\u001B[1;32m    331\u001B[0m \u001B[38;5;28;01mif\u001B[39;00m \u001B[38;5;28mself\u001B[39m\u001B[38;5;241m.\u001B[39mviewer \u001B[38;5;129;01mis\u001B[39;00m \u001B[38;5;28;01mNone\u001B[39;00m:\n\u001B[0;32m--> 332\u001B[0m     \u001B[38;5;28;01mfrom\u001B[39;00m \u001B[38;5;21;01mgym\u001B[39;00m\u001B[38;5;21;01m.\u001B[39;00m\u001B[38;5;21;01menvs\u001B[39;00m\u001B[38;5;21;01m.\u001B[39;00m\u001B[38;5;21;01mclassic_control\u001B[39;00m \u001B[38;5;28;01mimport\u001B[39;00m rendering\n\u001B[1;32m    333\u001B[0m     \u001B[38;5;28mself\u001B[39m\u001B[38;5;241m.\u001B[39mviewer \u001B[38;5;241m=\u001B[39m rendering\u001B[38;5;241m.\u001B[39mViewer(WINDOW_W, WINDOW_H)\n\u001B[1;32m    334\u001B[0m     \u001B[38;5;28mself\u001B[39m\u001B[38;5;241m.\u001B[39mscore_label \u001B[38;5;241m=\u001B[39m pyglet\u001B[38;5;241m.\u001B[39mtext\u001B[38;5;241m.\u001B[39mLabel(\u001B[38;5;124m'\u001B[39m\u001B[38;5;124m0000\u001B[39m\u001B[38;5;124m'\u001B[39m, font_size\u001B[38;5;241m=\u001B[39m\u001B[38;5;241m36\u001B[39m,\n\u001B[1;32m    335\u001B[0m         x\u001B[38;5;241m=\u001B[39m\u001B[38;5;241m20\u001B[39m, y\u001B[38;5;241m=\u001B[39mWINDOW_H\u001B[38;5;241m*\u001B[39m\u001B[38;5;241m2.5\u001B[39m\u001B[38;5;241m/\u001B[39m\u001B[38;5;241m40.00\u001B[39m, anchor_x\u001B[38;5;241m=\u001B[39m\u001B[38;5;124m'\u001B[39m\u001B[38;5;124mleft\u001B[39m\u001B[38;5;124m'\u001B[39m, anchor_y\u001B[38;5;241m=\u001B[39m\u001B[38;5;124m'\u001B[39m\u001B[38;5;124mcenter\u001B[39m\u001B[38;5;124m'\u001B[39m,\n\u001B[1;32m    336\u001B[0m         color\u001B[38;5;241m=\u001B[39m(\u001B[38;5;241m255\u001B[39m,\u001B[38;5;241m255\u001B[39m,\u001B[38;5;241m255\u001B[39m,\u001B[38;5;241m255\u001B[39m))\n",
      "File \u001B[0;32m~/miniconda3/envs/WM_torch/lib/python3.9/site-packages/gym/envs/classic_control/rendering.py:23\u001B[0m\n\u001B[1;32m     20\u001B[0m     reraise(suffix\u001B[38;5;241m=\u001B[39m\u001B[38;5;124m\"\u001B[39m\u001B[38;5;124mHINT: you can install pyglet directly via \u001B[39m\u001B[38;5;124m'\u001B[39m\u001B[38;5;124mpip install pyglet\u001B[39m\u001B[38;5;124m'\u001B[39m\u001B[38;5;124m. But if you really just want to install all Gym dependencies and not have to think about it, \u001B[39m\u001B[38;5;124m'\u001B[39m\u001B[38;5;124mpip install -e .[all]\u001B[39m\u001B[38;5;124m'\u001B[39m\u001B[38;5;124m or \u001B[39m\u001B[38;5;124m'\u001B[39m\u001B[38;5;124mpip install gym[all]\u001B[39m\u001B[38;5;124m'\u001B[39m\u001B[38;5;124m will do it.\u001B[39m\u001B[38;5;124m\"\u001B[39m)\n\u001B[1;32m     22\u001B[0m \u001B[38;5;28;01mtry\u001B[39;00m:\n\u001B[0;32m---> 23\u001B[0m     \u001B[38;5;28;01mfrom\u001B[39;00m \u001B[38;5;21;01mpyglet\u001B[39;00m\u001B[38;5;21;01m.\u001B[39;00m\u001B[38;5;21;01mgl\u001B[39;00m \u001B[38;5;28;01mimport\u001B[39;00m \u001B[38;5;241m*\u001B[39m\n\u001B[1;32m     24\u001B[0m \u001B[38;5;28;01mexcept\u001B[39;00m \u001B[38;5;167;01mImportError\u001B[39;00m \u001B[38;5;28;01mas\u001B[39;00m e:\n\u001B[1;32m     25\u001B[0m     reraise(prefix\u001B[38;5;241m=\u001B[39m\u001B[38;5;124m\"\u001B[39m\u001B[38;5;124mError occured while running `from pyglet.gl import *`\u001B[39m\u001B[38;5;124m\"\u001B[39m,suffix\u001B[38;5;241m=\u001B[39m\u001B[38;5;124m\"\u001B[39m\u001B[38;5;124mHINT: make sure you have OpenGL install. On Ubuntu, you can run \u001B[39m\u001B[38;5;124m'\u001B[39m\u001B[38;5;124mapt-get install python-opengl\u001B[39m\u001B[38;5;124m'\u001B[39m\u001B[38;5;124m. If you\u001B[39m\u001B[38;5;124m'\u001B[39m\u001B[38;5;124mre running on a server, you may need a virtual frame buffer; something like this should work: \u001B[39m\u001B[38;5;124m'\u001B[39m\u001B[38;5;124mxvfb-run -s \u001B[39m\u001B[38;5;130;01m\\\"\u001B[39;00m\u001B[38;5;124m-screen 0 1400x900x24\u001B[39m\u001B[38;5;130;01m\\\"\u001B[39;00m\u001B[38;5;124m python <your_script.py>\u001B[39m\u001B[38;5;124m'\u001B[39m\u001B[38;5;124m\"\u001B[39m)\n",
      "File \u001B[0;32m~/miniconda3/envs/WM_torch/lib/python3.9/site-packages/pyglet/gl/__init__.py:239\u001B[0m\n\u001B[1;32m    234\u001B[0m \u001B[38;5;28;01mif\u001B[39;00m (\u001B[38;5;129;01mnot\u001B[39;00m _is_pyglet_docgen \u001B[38;5;129;01mand\u001B[39;00m\n\u001B[1;32m    235\u001B[0m     \u001B[38;5;124m'\u001B[39m\u001B[38;5;124mpyglet.window\u001B[39m\u001B[38;5;124m'\u001B[39m \u001B[38;5;129;01mnot\u001B[39;00m \u001B[38;5;129;01min\u001B[39;00m _sys\u001B[38;5;241m.\u001B[39mmodules \u001B[38;5;129;01mand\u001B[39;00m \n\u001B[1;32m    236\u001B[0m     _pyglet\u001B[38;5;241m.\u001B[39moptions[\u001B[38;5;124m'\u001B[39m\u001B[38;5;124mshadow_window\u001B[39m\u001B[38;5;124m'\u001B[39m]):\n\u001B[1;32m    237\u001B[0m     \u001B[38;5;66;03m# trickery is for circular import \u001B[39;00m\n\u001B[1;32m    238\u001B[0m     _pyglet\u001B[38;5;241m.\u001B[39mgl \u001B[38;5;241m=\u001B[39m _sys\u001B[38;5;241m.\u001B[39mmodules[\u001B[38;5;18m__name__\u001B[39m]\n\u001B[0;32m--> 239\u001B[0m     \u001B[38;5;28;01mimport\u001B[39;00m \u001B[38;5;21;01mpyglet\u001B[39;00m\u001B[38;5;21;01m.\u001B[39;00m\u001B[38;5;21;01mwindow\u001B[39;00m\n",
      "File \u001B[0;32m~/miniconda3/envs/WM_torch/lib/python3.9/site-packages/pyglet/window/__init__.py:1896\u001B[0m\n\u001B[1;32m   1894\u001B[0m \u001B[38;5;28;01mif\u001B[39;00m \u001B[38;5;129;01mnot\u001B[39;00m _is_pyglet_docgen:\n\u001B[1;32m   1895\u001B[0m     pyglet\u001B[38;5;241m.\u001B[39mwindow \u001B[38;5;241m=\u001B[39m sys\u001B[38;5;241m.\u001B[39mmodules[\u001B[38;5;18m__name__\u001B[39m]\n\u001B[0;32m-> 1896\u001B[0m     \u001B[43mgl\u001B[49m\u001B[38;5;241;43m.\u001B[39;49m\u001B[43m_create_shadow_window\u001B[49m\u001B[43m(\u001B[49m\u001B[43m)\u001B[49m\n",
      "File \u001B[0;32m~/miniconda3/envs/WM_torch/lib/python3.9/site-packages/pyglet/gl/__init__.py:208\u001B[0m, in \u001B[0;36m_create_shadow_window\u001B[0;34m()\u001B[0m\n\u001B[1;32m    205\u001B[0m     \u001B[38;5;28;01mreturn\u001B[39;00m\n\u001B[1;32m    207\u001B[0m \u001B[38;5;28;01mfrom\u001B[39;00m \u001B[38;5;21;01mpyglet\u001B[39;00m\u001B[38;5;21;01m.\u001B[39;00m\u001B[38;5;21;01mwindow\u001B[39;00m \u001B[38;5;28;01mimport\u001B[39;00m Window\n\u001B[0;32m--> 208\u001B[0m _shadow_window \u001B[38;5;241m=\u001B[39m \u001B[43mWindow\u001B[49m\u001B[43m(\u001B[49m\u001B[43mwidth\u001B[49m\u001B[38;5;241;43m=\u001B[39;49m\u001B[38;5;241;43m1\u001B[39;49m\u001B[43m,\u001B[49m\u001B[43m \u001B[49m\u001B[43mheight\u001B[49m\u001B[38;5;241;43m=\u001B[39;49m\u001B[38;5;241;43m1\u001B[39;49m\u001B[43m,\u001B[49m\u001B[43m \u001B[49m\u001B[43mvisible\u001B[49m\u001B[38;5;241;43m=\u001B[39;49m\u001B[38;5;28;43;01mFalse\u001B[39;49;00m\u001B[43m)\u001B[49m\n\u001B[1;32m    209\u001B[0m _shadow_window\u001B[38;5;241m.\u001B[39mswitch_to()\n\u001B[1;32m    211\u001B[0m \u001B[38;5;28;01mfrom\u001B[39;00m \u001B[38;5;21;01mpyglet\u001B[39;00m \u001B[38;5;28;01mimport\u001B[39;00m app\n",
      "File \u001B[0;32m~/miniconda3/envs/WM_torch/lib/python3.9/site-packages/pyglet/window/xlib/__init__.py:166\u001B[0m, in \u001B[0;36mXlibWindow.__init__\u001B[0;34m(self, *args, **kwargs)\u001B[0m\n\u001B[1;32m    163\u001B[0m         \u001B[38;5;28;01melse\u001B[39;00m:\n\u001B[1;32m    164\u001B[0m             \u001B[38;5;28mself\u001B[39m\u001B[38;5;241m.\u001B[39m_event_handlers[message] \u001B[38;5;241m=\u001B[39m func\n\u001B[0;32m--> 166\u001B[0m \u001B[38;5;28;43msuper\u001B[39;49m\u001B[43m(\u001B[49m\u001B[43mXlibWindow\u001B[49m\u001B[43m,\u001B[49m\u001B[43m \u001B[49m\u001B[38;5;28;43mself\u001B[39;49m\u001B[43m)\u001B[49m\u001B[38;5;241;43m.\u001B[39;49m\u001B[38;5;21;43m__init__\u001B[39;49m\u001B[43m(\u001B[49m\u001B[38;5;241;43m*\u001B[39;49m\u001B[43margs\u001B[49m\u001B[43m,\u001B[49m\u001B[43m \u001B[49m\u001B[38;5;241;43m*\u001B[39;49m\u001B[38;5;241;43m*\u001B[39;49m\u001B[43mkwargs\u001B[49m\u001B[43m)\u001B[49m\n\u001B[1;32m    168\u001B[0m \u001B[38;5;28;01mglobal\u001B[39;00m _can_detect_autorepeat\n\u001B[1;32m    169\u001B[0m \u001B[38;5;28;01mif\u001B[39;00m _can_detect_autorepeat \u001B[38;5;241m==\u001B[39m \u001B[38;5;28;01mNone\u001B[39;00m:\n",
      "File \u001B[0;32m~/miniconda3/envs/WM_torch/lib/python3.9/site-packages/pyglet/window/__init__.py:501\u001B[0m, in \u001B[0;36mBaseWindow.__init__\u001B[0;34m(self, width, height, caption, resizable, style, fullscreen, visible, vsync, display, screen, config, context, mode)\u001B[0m\n\u001B[1;32m    498\u001B[0m \u001B[38;5;28mself\u001B[39m\u001B[38;5;241m.\u001B[39m_event_queue \u001B[38;5;241m=\u001B[39m []\n\u001B[1;32m    500\u001B[0m \u001B[38;5;28;01mif\u001B[39;00m \u001B[38;5;129;01mnot\u001B[39;00m display:\n\u001B[0;32m--> 501\u001B[0m     display \u001B[38;5;241m=\u001B[39m \u001B[43mget_platform\u001B[49m\u001B[43m(\u001B[49m\u001B[43m)\u001B[49m\u001B[38;5;241;43m.\u001B[39;49m\u001B[43mget_default_display\u001B[49m\u001B[43m(\u001B[49m\u001B[43m)\u001B[49m\n\u001B[1;32m    503\u001B[0m \u001B[38;5;28;01mif\u001B[39;00m \u001B[38;5;129;01mnot\u001B[39;00m screen:\n\u001B[1;32m    504\u001B[0m     screen \u001B[38;5;241m=\u001B[39m display\u001B[38;5;241m.\u001B[39mget_default_screen()\n",
      "File \u001B[0;32m~/miniconda3/envs/WM_torch/lib/python3.9/site-packages/pyglet/window/__init__.py:1845\u001B[0m, in \u001B[0;36mPlatform.get_default_display\u001B[0;34m(self)\u001B[0m\n\u001B[1;32m   1838\u001B[0m \u001B[38;5;28;01mdef\u001B[39;00m \u001B[38;5;21mget_default_display\u001B[39m(\u001B[38;5;28mself\u001B[39m):\n\u001B[1;32m   1839\u001B[0m \u001B[38;5;250m    \u001B[39m\u001B[38;5;124;03m\"\"\"Get the default display device.\u001B[39;00m\n\u001B[1;32m   1840\u001B[0m \n\u001B[1;32m   1841\u001B[0m \u001B[38;5;124;03m    :deprecated: Use `pyglet.canvas.get_display`.\u001B[39;00m\n\u001B[1;32m   1842\u001B[0m \n\u001B[1;32m   1843\u001B[0m \u001B[38;5;124;03m    :rtype: `Display`\u001B[39;00m\n\u001B[1;32m   1844\u001B[0m \u001B[38;5;124;03m    \"\"\"\u001B[39;00m\n\u001B[0;32m-> 1845\u001B[0m     \u001B[38;5;28;01mreturn\u001B[39;00m \u001B[43mpyglet\u001B[49m\u001B[38;5;241;43m.\u001B[39;49m\u001B[43mcanvas\u001B[49m\u001B[38;5;241;43m.\u001B[39;49m\u001B[43mget_display\u001B[49m\u001B[43m(\u001B[49m\u001B[43m)\u001B[49m\n",
      "File \u001B[0;32m~/miniconda3/envs/WM_torch/lib/python3.9/site-packages/pyglet/canvas/__init__.py:82\u001B[0m, in \u001B[0;36mget_display\u001B[0;34m()\u001B[0m\n\u001B[1;32m     79\u001B[0m     \u001B[38;5;28;01mreturn\u001B[39;00m display\n\u001B[1;32m     81\u001B[0m \u001B[38;5;66;03m# Otherwise, create a new display and return it.\u001B[39;00m\n\u001B[0;32m---> 82\u001B[0m \u001B[38;5;28;01mreturn\u001B[39;00m \u001B[43mDisplay\u001B[49m\u001B[43m(\u001B[49m\u001B[43m)\u001B[49m\n",
      "File \u001B[0;32m~/miniconda3/envs/WM_torch/lib/python3.9/site-packages/pyglet/canvas/xlib.py:86\u001B[0m, in \u001B[0;36mXlibDisplay.__init__\u001B[0;34m(self, name, x_screen)\u001B[0m\n\u001B[1;32m     84\u001B[0m \u001B[38;5;28mself\u001B[39m\u001B[38;5;241m.\u001B[39m_display \u001B[38;5;241m=\u001B[39m xlib\u001B[38;5;241m.\u001B[39mXOpenDisplay(name)\n\u001B[1;32m     85\u001B[0m \u001B[38;5;28;01mif\u001B[39;00m \u001B[38;5;129;01mnot\u001B[39;00m \u001B[38;5;28mself\u001B[39m\u001B[38;5;241m.\u001B[39m_display:\n\u001B[0;32m---> 86\u001B[0m     \u001B[38;5;28;01mraise\u001B[39;00m NoSuchDisplayException(\u001B[38;5;124m'\u001B[39m\u001B[38;5;124mCannot connect to \u001B[39m\u001B[38;5;124m\"\u001B[39m\u001B[38;5;132;01m%s\u001B[39;00m\u001B[38;5;124m\"\u001B[39m\u001B[38;5;124m'\u001B[39m \u001B[38;5;241m%\u001B[39m name)\n\u001B[1;32m     88\u001B[0m screen_count \u001B[38;5;241m=\u001B[39m xlib\u001B[38;5;241m.\u001B[39mXScreenCount(\u001B[38;5;28mself\u001B[39m\u001B[38;5;241m.\u001B[39m_display)\n\u001B[1;32m     89\u001B[0m \u001B[38;5;28;01mif\u001B[39;00m x_screen \u001B[38;5;241m>\u001B[39m\u001B[38;5;241m=\u001B[39m screen_count:\n",
      "\u001B[0;31mNoSuchDisplayException\u001B[0m: Cannot connect to \"None\""
     ]
    }
   ],
   "source": [
    "!which python\n",
    "from os.path import join, exists\n",
    "from utils.misc import RolloutGenerator\n",
    "import torch\n",
    "\n",
    "logdir = \"exp_dir\"\n",
    "render = True\n",
    "ctrl_file = join(logdir, 'ctrl', 'best.tar')\n",
    "\n",
    "assert exists(ctrl_file), \\\n",
    "    \"Controller was not trained...\"\n",
    "\n",
    "device = torch.device('cpu')\n",
    "\n",
    "generator = RolloutGenerator(logdir, device, 1000)\n",
    "\n",
    "with torch.no_grad():\n",
    "    print(generator.rollout(None, render=render))"
   ]
  },
  {
   "cell_type": "code",
   "execution_count": null,
   "outputs": [],
   "source": [],
   "metadata": {
    "collapsed": false
   },
   "id": "7f7d242e5dc79d18"
  }
 ],
 "metadata": {
  "kernelspec": {
   "display_name": "Python 3",
   "language": "python",
   "name": "python3"
  },
  "language_info": {
   "codemirror_mode": {
    "name": "ipython",
    "version": 2
   },
   "file_extension": ".py",
   "mimetype": "text/x-python",
   "name": "python",
   "nbconvert_exporter": "python",
   "pygments_lexer": "ipython2",
   "version": "2.7.6"
  }
 },
 "nbformat": 4,
 "nbformat_minor": 5
}
