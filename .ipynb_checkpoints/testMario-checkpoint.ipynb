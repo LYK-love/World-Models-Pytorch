{
 "cells": [
  {
   "cell_type": "code",
   "execution_count": null,
   "outputs": [],
   "source": [
    "!pip install -q gym_super_mario_bros==7.3.0 nes_py"
   ],
   "metadata": {
    "collapsed": false
   },
   "id": "f363541efcff0f3a"
  },
  {
   "cell_type": "code",
   "execution_count": null,
   "outputs": [],
   "source": [
    "import matplotlib.pyplot as plt\n",
    "%matplotlib inline\n",
    "from IPython import display"
   ],
   "metadata": {
    "collapsed": false
   },
   "id": "d9e6e4dc2730467"
  },
  {
   "cell_type": "code",
   "execution_count": null,
   "outputs": [],
   "source": [
    "\n",
    "\n",
    "def show_state(env, step=0, info=\"\"):\n",
    "    plt.figure(3)\n",
    "    plt.clf()\n",
    "    plt.imshow(env.render(mode='rgb_array'))\n",
    "    plt.title(\"Step: %d %s\" % (step, info))\n",
    "    plt.axis('off')\n",
    "\n",
    "    display.clear_output(wait=True)\n",
    "    display.display(plt.gcf())\n",
    "\n"
   ],
   "metadata": {
    "collapsed": false
   },
   "id": "c6ee4d58c5051f11"
  },
  {
   "cell_type": "code",
   "execution_count": null,
   "outputs": [],
   "source": [
    "import gym_super_mario_bros\n",
    "from nes_py.wrappers import JoypadSpace\n",
    "\n",
    "from gym_super_mario_bros.actions import SIMPLE_MOVEMENT"
   ],
   "metadata": {
    "collapsed": false
   },
   "id": "adb84a3ab4811dd3"
  },
  {
   "cell_type": "code",
   "execution_count": null,
   "outputs": [],
   "source": [
    "SIMPLE_MOVEMENT"
   ],
   "metadata": {
    "collapsed": false
   },
   "id": "d158b6b1e48552db"
  },
  {
   "cell_type": "code",
   "execution_count": null,
   "outputs": [],
   "source": [
    "env = gym_super_mario_bros.make('SuperMarioBros-v0')"
   ],
   "metadata": {
    "collapsed": false
   },
   "id": "1656662fa9e3e41b"
  },
  {
   "cell_type": "code",
   "execution_count": null,
   "outputs": [],
   "source": [
    "env = JoypadSpace(env, SIMPLE_MOVEMENT)"
   ],
   "metadata": {
    "collapsed": false
   },
   "id": "a088f7ffeba5e06a"
  },
  {
   "cell_type": "code",
   "execution_count": null,
   "outputs": [],
   "source": [
    "env.action_space"
   ],
   "metadata": {
    "collapsed": false
   },
   "id": "390ee9b62e44c9c9"
  },
  {
   "cell_type": "code",
   "execution_count": null,
   "outputs": [],
   "source": [
    "env.observation_space.shape"
   ],
   "metadata": {
    "collapsed": false
   },
   "id": "323a2864fe032d27"
  },
  {
   "cell_type": "code",
   "execution_count": null,
   "outputs": [],
   "source": [
    "done = True\n",
    "for step in range(100):\n",
    "    if done:\n",
    "        env.reset()\n",
    "    state, reward, done, info = env.step(env.action_space.sample())\n",
    "    #print(state, reward, done, info)\n",
    "    show_state(env,step,info)\n",
    "#env.close()\n"
   ],
   "metadata": {
    "collapsed": false
   },
   "id": "dd47648afedf951d"
  }
 ],
 "metadata": {
  "kernelspec": {
   "display_name": "Python 3",
   "language": "python",
   "name": "python3"
  },
  "language_info": {
   "codemirror_mode": {
    "name": "ipython",
    "version": 2
   },
   "file_extension": ".py",
   "mimetype": "text/x-python",
   "name": "python",
   "nbconvert_exporter": "python",
   "pygments_lexer": "ipython2",
   "version": "2.7.6"
  }
 },
 "nbformat": 4,
 "nbformat_minor": 5
}
