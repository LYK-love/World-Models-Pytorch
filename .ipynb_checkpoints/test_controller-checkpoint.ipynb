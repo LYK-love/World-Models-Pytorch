{
 "cells": [
  {
   "cell_type": "markdown",
   "source": [
    "# Import dependencies\n"
   ],
   "metadata": {
    "collapsed": false
   },
   "id": "6915c0221864a2d4"
  },
  {
   "cell_type": "code",
   "execution_count": 10,
   "outputs": [],
   "source": [
    "import argparse\n",
    "from os.path import join, exists\n",
    "from utils.misc import RolloutGenerator\n",
    "import torch"
   ],
   "metadata": {
    "collapsed": false,
    "ExecuteTime": {
     "end_time": "2023-12-31T04:59:21.038454909Z",
     "start_time": "2023-12-31T04:59:21.034327318Z"
    }
   },
   "id": "c1542e55eeea1ace"
  },
  {
   "cell_type": "markdown",
   "source": [
    "# Set params"
   ],
   "metadata": {
    "collapsed": false
   },
   "id": "b3e9ef795db4d50e"
  },
  {
   "cell_type": "code",
   "execution_count": 11,
   "outputs": [],
   "source": [
    "logdir = '--logdir'\n",
    "render = True"
   ],
   "metadata": {
    "collapsed": false,
    "ExecuteTime": {
     "end_time": "2023-12-31T04:59:22.707323181Z",
     "start_time": "2023-12-31T04:59:22.701585915Z"
    }
   },
   "id": "efa773c831146a85"
  },
  {
   "cell_type": "markdown",
   "source": [
    "# Run"
   ],
   "metadata": {
    "collapsed": false
   },
   "id": "988ccb1a5fbe1a12"
  },
  {
   "cell_type": "code",
   "execution_count": 12,
   "outputs": [
    {
     "ename": "AssertionError",
     "evalue": "Controller was not trained...",
     "output_type": "error",
     "traceback": [
      "\u001B[0;31m---------------------------------------------------------------------------\u001B[0m",
      "\u001B[0;31mAssertionError\u001B[0m                            Traceback (most recent call last)",
      "Cell \u001B[0;32mIn[12], line 3\u001B[0m\n\u001B[1;32m      1\u001B[0m ctrl_file \u001B[38;5;241m=\u001B[39m join(logdir, \u001B[38;5;124m'\u001B[39m\u001B[38;5;124mctrl\u001B[39m\u001B[38;5;124m'\u001B[39m, \u001B[38;5;124m'\u001B[39m\u001B[38;5;124mbest.tar\u001B[39m\u001B[38;5;124m'\u001B[39m)\n\u001B[0;32m----> 3\u001B[0m \u001B[38;5;28;01massert\u001B[39;00m exists(ctrl_file),\\\n\u001B[1;32m      4\u001B[0m     \u001B[38;5;124m\"\u001B[39m\u001B[38;5;124mController was not trained...\u001B[39m\u001B[38;5;124m\"\u001B[39m\n\u001B[1;32m      6\u001B[0m device \u001B[38;5;241m=\u001B[39m torch\u001B[38;5;241m.\u001B[39mdevice(\u001B[38;5;124m'\u001B[39m\u001B[38;5;124mcpu\u001B[39m\u001B[38;5;124m'\u001B[39m)\n\u001B[1;32m      8\u001B[0m generator \u001B[38;5;241m=\u001B[39m RolloutGenerator(logdir, device, \u001B[38;5;241m1000\u001B[39m)\n",
      "\u001B[0;31mAssertionError\u001B[0m: Controller was not trained..."
     ]
    }
   ],
   "source": [
    "ctrl_file = join(logdir, 'ctrl', 'best.tar')\n",
    "\n",
    "assert exists(ctrl_file),\\\n",
    "    \"Controller was not trained...\"\n",
    "\n",
    "device = torch.device('cpu')\n",
    "\n",
    "generator = RolloutGenerator(logdir, device, 1000)\n",
    "\n",
    "with torch.no_grad():\n",
    "    print(generator.rollout(None, render=render))"
   ],
   "metadata": {
    "collapsed": false,
    "ExecuteTime": {
     "end_time": "2023-12-31T04:59:23.898883550Z",
     "start_time": "2023-12-31T04:59:23.868675485Z"
    }
   },
   "id": "c0fba7620e9d314"
  },
  {
   "cell_type": "code",
   "execution_count": null,
   "outputs": [],
   "source": [],
   "metadata": {
    "collapsed": false
   },
   "id": "82134e782d70cbf8"
  }
 ],
 "metadata": {
  "kernelspec": {
   "display_name": "Python 3",
   "language": "python",
   "name": "python3"
  },
  "language_info": {
   "codemirror_mode": {
    "name": "ipython",
    "version": 2
   },
   "file_extension": ".py",
   "mimetype": "text/x-python",
   "name": "python",
   "nbconvert_exporter": "python",
   "pygments_lexer": "ipython2",
   "version": "2.7.6"
  }
 },
 "nbformat": 4,
 "nbformat_minor": 5
}
