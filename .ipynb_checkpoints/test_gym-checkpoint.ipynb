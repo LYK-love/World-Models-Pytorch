{
 "cells": [
  {
   "cell_type": "code",
   "execution_count": 1,
   "id": "f363541efcff0f3a",
   "metadata": {
    "collapsed": false
   },
   "outputs": [
    {
     "name": "stdout",
     "output_type": "stream",
     "text": [
      "Requirement already satisfied: gym_super_mario_bros==7.3.0 in /home/lykuni_ucdavis_edu/miniconda3/lib/python3.11/site-packages (7.3.0)\n",
      "Requirement already satisfied: nes_py in /home/lykuni_ucdavis_edu/miniconda3/lib/python3.11/site-packages (8.2.1)\n",
      "Requirement already satisfied: gym>=0.17.2 in /home/lykuni_ucdavis_edu/miniconda3/lib/python3.11/site-packages (from nes_py) (0.26.2)\n",
      "Requirement already satisfied: numpy>=1.18.5 in /home/lykuni_ucdavis_edu/miniconda3/lib/python3.11/site-packages (from nes_py) (1.26.2)\n",
      "Requirement already satisfied: pyglet<=1.5.21,>=1.4.0 in /home/lykuni_ucdavis_edu/miniconda3/lib/python3.11/site-packages (from nes_py) (1.5.21)\n",
      "Requirement already satisfied: tqdm>=4.48.2 in /home/lykuni_ucdavis_edu/miniconda3/lib/python3.11/site-packages (from nes_py) (4.65.0)\n",
      "Requirement already satisfied: cloudpickle>=1.2.0 in /home/lykuni_ucdavis_edu/miniconda3/lib/python3.11/site-packages (from gym>=0.17.2->nes_py) (3.0.0)\n",
      "Requirement already satisfied: gym-notices>=0.0.4 in /home/lykuni_ucdavis_edu/miniconda3/lib/python3.11/site-packages (from gym>=0.17.2->nes_py) (0.0.8)\n"
     ]
    }
   ],
   "source": [
    "!pip install -q gym\n",
    "!pip install -q matplotlib"
   ]
  },
  {
   "cell_type": "code",
   "execution_count": 2,
   "id": "f4214fc2-81e0-4d55-ab65-6a0d4c86a828",
   "metadata": {},
   "outputs": [
    {
     "name": "stdout",
     "output_type": "stream",
     "text": [
      "/home/lykuni_ucdavis_edu/miniconda3/bin/python\n",
      "Name: gym\n",
      "Version: 0.26.2\n",
      "Summary: Gym: A universal API for reinforcement learning environments\n",
      "Home-page: https://www.gymlibrary.dev/\n",
      "Author: Gym Community\n",
      "Author-email: jkterry@umd.edu\n",
      "License: MIT\n",
      "Location: /home/lykuni_ucdavis_edu/miniconda3/lib/python3.11/site-packages\n",
      "Requires: cloudpickle, gym-notices, numpy\n",
      "Required-by: nes-py\n"
     ]
    }
   ],
   "source": [
    "!which python\n",
    "!pip show gym"
   ]
  },
  {
   "cell_type": "code",
   "execution_count": 3,
   "id": "d9e6e4dc2730467",
   "metadata": {
    "collapsed": false
   },
   "outputs": [],
   "source": [
    "import matplotlib.pyplot as plt\n",
    "%matplotlib inline\n",
    "from IPython import display"
   ]
  },
  {
   "cell_type": "code",
   "execution_count": 4,
   "id": "c6ee4d58c5051f11",
   "metadata": {
    "collapsed": false
   },
   "outputs": [],
   "source": [
    "def show_state(env, step=0, info=\"\"):\n",
    "    plt.figure(3)\n",
    "    plt.clf()\n",
    "    plt.imshow(env.render(mode='rgb_array'))\n",
    "    plt.title(\"Step: %d %s\" % (step, info))\n",
    "    plt.axis('off')\n",
    "\n",
    "    display.clear_output(wait=True)\n",
    "    display.display(plt.gcf())"
   ]
  },
  {
   "cell_type": "code",
   "execution_count": 5,
   "id": "adb84a3ab4811dd3",
   "metadata": {
    "collapsed": false
   },
   "outputs": [],
   "source": [
    "env = gym.make(\"LunarLander-v2\", render_mode=\"human\")\n",
    "env.action_space.seed(42)\n",
    "\n",
    "observation, info = env.reset(seed=42)"
   ]
  },
  {
   "cell_type": "code",
   "execution_count": null,
   "outputs": [],
   "source": [
    "for step in range(1000):\n",
    "    observation, reward, terminated, truncated, info = env.step(env.action_space.sample())\n",
    "    show_state(env=env, step=step, info=info)\n",
    "    if terminated or truncated:\n",
    "        observation, info = env.reset()\n",
    "\n",
    "# env.close()"
   ],
   "metadata": {
    "collapsed": false
   },
   "id": "ff7fe4455f1d5c07"
  },
  {
   "cell_type": "code",
   "execution_count": null,
   "id": "8a56f28c-cc3f-4e9c-b06a-e9cca9a586d4",
   "metadata": {},
   "outputs": [],
   "source": []
  }
 ],
 "metadata": {
  "kernelspec": {
   "display_name": "Python 3 (ipykernel)",
   "language": "python",
   "name": "python3"
  },
  "language_info": {
   "codemirror_mode": {
    "name": "ipython",
    "version": 3
   },
   "file_extension": ".py",
   "mimetype": "text/x-python",
   "name": "python",
   "nbconvert_exporter": "python",
   "pygments_lexer": "ipython3",
   "version": "3.11.5"
  }
 },
 "nbformat": 4,
 "nbformat_minor": 5
}
